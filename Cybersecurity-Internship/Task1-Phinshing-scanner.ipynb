{
 "cells": [
  {
   "cell_type": "code",
   "execution_count": 3,
   "id": "5c78eead-b07d-458d-97f1-fc35f9b4eced",
   "metadata": {},
   "outputs": [
    {
     "name": "stdin",
     "output_type": "stream",
     "text": [
      "Enter a URL to scan:  http://secure-login.paypal.com.xyz\n"
     ]
    },
    {
     "data": {
      "text/html": [
       "<div>\n",
       "<style scoped>\n",
       "    .dataframe tbody tr th:only-of-type {\n",
       "        vertical-align: middle;\n",
       "    }\n",
       "\n",
       "    .dataframe tbody tr th {\n",
       "        vertical-align: top;\n",
       "    }\n",
       "\n",
       "    .dataframe thead th {\n",
       "        text-align: right;\n",
       "    }\n",
       "</style>\n",
       "<table border=\"1\" class=\"dataframe\">\n",
       "  <thead>\n",
       "    <tr style=\"text-align: right;\">\n",
       "      <th></th>\n",
       "      <th>URL</th>\n",
       "      <th>Suspicious</th>\n",
       "      <th>Reason</th>\n",
       "    </tr>\n",
       "  </thead>\n",
       "  <tbody>\n",
       "    <tr>\n",
       "      <th>0</th>\n",
       "      <td>http://secure-login.paypal.com.xyz</td>\n",
       "      <td>True</td>\n",
       "      <td>Too many subdomains, might be phishing.</td>\n",
       "    </tr>\n",
       "  </tbody>\n",
       "</table>\n",
       "</div>"
      ],
      "text/plain": [
       "                                  URL  Suspicious  \\\n",
       "0  http://secure-login.paypal.com.xyz        True   \n",
       "\n",
       "                                    Reason  \n",
       "0  Too many subdomains, might be phishing.  "
      ]
     },
     "metadata": {},
     "output_type": "display_data"
    }
   ],
   "source": [
    "import validators\n",
    "import requests\n",
    "\n",
    "# ✅ URL Validity Check\n",
    "def is_valid_url(url):\n",
    "    return validators.url(url)\n",
    "\n",
    "# ✅ Phishing Patterns Check\n",
    "phishing_keywords = [\"login\", \"verify\", \"update\", \"secure\", \"account\", \"banking\", \"paypal\"]\n",
    "\n",
    "def check_suspicious_patterns(url):\n",
    "    domain_parts = url.split(\"//\")[-1].split(\"/\")\n",
    "    domain = domain_parts[0]\n",
    "\n",
    "    if domain.count(\".\") > 2:\n",
    "        return True, \"Too many subdomains, might be phishing.\"\n",
    "\n",
    "    for keyword in phishing_keywords:\n",
    "        if keyword in url.lower():\n",
    "            return True, f\"Suspicious keyword '{keyword}' found in URL.\"\n",
    "\n",
    "    return False, \"No immediate phishing patterns detected.\"\n",
    "\n",
    "# ✅ Final Scanner Function\n",
    "def scan_url(url):\n",
    "    if not is_valid_url(url):\n",
    "        return \"Invalid URL. Please enter a correct URL.\"\n",
    "\n",
    "    suspicious, reason = check_suspicious_patterns(url)\n",
    "    \n",
    "    result = {\n",
    "        \"URL\": url,\n",
    "        \"Suspicious\": suspicious,\n",
    "        \"Reason\": reason\n",
    "    }\n",
    "    \n",
    "    return result\n",
    "\n",
    "# ✅ Jupyter Notebook Input\n",
    "url_to_scan = input(\"Enter a URL to scan: \")\n",
    "scan_result = scan_url(url_to_scan)\n",
    "\n",
    "# ✅ Display Output\n",
    "from IPython.display import display\n",
    "import pandas as pd\n",
    "\n",
    "df = pd.DataFrame([scan_result])\n",
    "display(df)\n"
   ]
  },
  {
   "cell_type": "code",
   "execution_count": null,
   "id": "7f868282-1c8b-417a-9604-89d6f8f62e96",
   "metadata": {},
   "outputs": [],
   "source": []
  }
 ],
 "metadata": {
  "kernelspec": {
   "display_name": "Python 3 (ipykernel)",
   "language": "python",
   "name": "python3"
  },
  "language_info": {
   "codemirror_mode": {
    "name": "ipython",
    "version": 3
   },
   "file_extension": ".py",
   "mimetype": "text/x-python",
   "name": "python",
   "nbconvert_exporter": "python",
   "pygments_lexer": "ipython3",
   "version": "3.12.6"
  }
 },
 "nbformat": 4,
 "nbformat_minor": 5
}
