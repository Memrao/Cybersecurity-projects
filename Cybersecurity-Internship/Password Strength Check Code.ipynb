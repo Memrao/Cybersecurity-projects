{
 "cells": [
  {
   "cell_type": "code",
   "execution_count": 5,
   "id": "4ef359df-478b-4974-ba5e-e7caa4f4a2e2",
   "metadata": {},
   "outputs": [
    {
     "name": "stdout",
     "output_type": "stream",
     "text": [
      "Defaulting to user installation because normal site-packages is not writeableNote: you may need to restart the kernel to use updated packages.\n",
      "\n",
      "Collecting passlib\n",
      "  Downloading passlib-1.7.4-py2.py3-none-any.whl.metadata (1.7 kB)\n",
      "Downloading passlib-1.7.4-py2.py3-none-any.whl (525 kB)\n",
      "   ---------------------------------------- 0.0/525.6 kB ? eta -:--:--\n",
      "   ---------------------------------------- 0.0/525.6 kB ? eta -:--:--\n",
      "   ------------------- -------------------- 262.1/525.6 kB ? eta -:--:--\n",
      "   ---------------------------------------- 525.6/525.6 kB 1.4 MB/s eta 0:00:00\n",
      "Installing collected packages: passlib\n",
      "Successfully installed passlib-1.7.4\n"
     ]
    }
   ],
   "source": [
    "pip install passlib\n"
   ]
  },
  {
   "cell_type": "code",
   "execution_count": 6,
   "id": "0be01324-3791-4935-9349-bb8ff85c4630",
   "metadata": {},
   "outputs": [
    {
     "name": "stdin",
     "output_type": "stream",
     "text": [
      "Enter your password:  abc$%$123677\n"
     ]
    },
    {
     "name": "stdout",
     "output_type": "stream",
     "text": [
      "⚠️ Medium Strength Password\n"
     ]
    }
   ],
   "source": [
    "import re\n",
    "\n",
    "def check_password_strength(password):\n",
    "    strength = 0\n",
    "    remarks = \"\"\n",
    "\n",
    "    if len(password) >= 8:\n",
    "        strength += 1\n",
    "    if re.search(r'[A-Z]', password):\n",
    "        strength += 1\n",
    "    if re.search(r'[a-z]', password):\n",
    "        strength += 1\n",
    "    if re.search(r'\\d', password):\n",
    "        strength += 1\n",
    "    if re.search(r'[!@#$%^&*(),.?\":{}|<>]', password):\n",
    "        strength += 1\n",
    "\n",
    "    if strength == 5:\n",
    "        remarks = \"🔒 Strong Password\"\n",
    "    elif strength >= 3:\n",
    "        remarks = \"⚠️ Medium Strength Password\"\n",
    "    else:\n",
    "        remarks = \"❌ Weak Password\"\n",
    "\n",
    "    return remarks\n",
    "\n",
    "# Test it\n",
    "password = input(\"Enter your password: \")\n",
    "print(check_password_strength(password))\n"
   ]
  },
  {
   "cell_type": "code",
   "execution_count": null,
   "id": "0de08dfb-ccf2-426b-a2aa-1851608bfa57",
   "metadata": {},
   "outputs": [],
   "source": []
  }
 ],
 "metadata": {
  "kernelspec": {
   "display_name": "Python 3 (ipykernel)",
   "language": "python",
   "name": "python3"
  },
  "language_info": {
   "codemirror_mode": {
    "name": "ipython",
    "version": 3
   },
   "file_extension": ".py",
   "mimetype": "text/x-python",
   "name": "python",
   "nbconvert_exporter": "python",
   "pygments_lexer": "ipython3",
   "version": "3.12.6"
  }
 },
 "nbformat": 4,
 "nbformat_minor": 5
}
