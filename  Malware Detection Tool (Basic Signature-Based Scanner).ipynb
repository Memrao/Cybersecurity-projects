{
 "cells": [
  {
   "cell_type": "code",
   "execution_count": null,
   "id": "dadb36a6-6c81-49b5-b17d-a2f8edb25590",
   "metadata": {},
   "outputs": [],
   "source": [
    "#Yeh tool kisi bhi file ka hash (digital fingerprint) generate karega aur malware signatures se compare karega."
   ]
  },
  {
   "cell_type": "code",
   "execution_count": 1,
   "id": "884c52cf-ba7f-4bdc-adf7-7b1394c500be",
   "metadata": {},
   "outputs": [],
   "source": [
    "import hashlib  # Hash calculation ke liye library import ki\n"
   ]
  },
  {
   "cell_type": "code",
   "execution_count": null,
   "id": "9706f2c5-7e95-4aff-aa79-af0eb685fe2e",
   "metadata": {},
   "outputs": [],
   "source": [
    "#✅ hashlib Python ki built-in library hai jo different hashing algorithms provide karti hai (MD5, SHA256, etc.).#\n",
    "#✅ Hash kya hota hai? Ek unique fingerprint jo kisi file ka data represent karta hai."
   ]
  },
  {
   "cell_type": "code",
   "execution_count": 8,
   "id": "12b0b6d4-5043-4fb0-9153-1f2b2734ff75",
   "metadata": {},
   "outputs": [
    {
     "name": "stdout",
     "output_type": "stream",
     "text": [
      "✅ test_file.exe is safe.\n"
     ]
    }
   ],
   "source": [
    "import hashlib  # Python ka built-in module jo hashing ke liye use hota hai\n",
    "\n",
    "# ⚠️ Pehle se known malware ke hashes ki ek list (Set me store kiya gaya hai)\n",
    "malware_hashes = {\"5d41402abc4b2a76b9719d911017c592\", \"e99a18c428cb38d5f260853678922e03\"}\n",
    "\n",
    "# 🔍 Function jo kisi bhi file ka MD5 hash calculate karega\n",
    "def calculate_hash(file_path):\n",
    "    try:\n",
    "        hasher = hashlib.md5()  # MD5 hashing algorithm ka ek object create kiya\n",
    "        with open(file_path, \"rb\") as file:  # File ko 'rb' mode (read binary) me open kiya\n",
    "            buf = file.read()  # Puri file ko read kiya\n",
    "            hasher.update(buf)  # Hashing object ko update kiya file ke data se\n",
    "        return hasher.hexdigest()  # Hash ko hexadecimal format me return kiya\n",
    "    except FileNotFoundError:  # Agar file nahi mile to ye exception catch karega\n",
    "        print(f\"❌ Error: File '{file_path}' not found.\")  # Error message print karega\n",
    "        return None  # File nahi mile to `None` return karega\n",
    "\n",
    "# 🔎 Function jo file ka hash check karke malware hone ka decision dega\n",
    "def scan_file(file_path):\n",
    "    file_hash = calculate_hash(file_path)  # Pehle file ka hash calculate karna\n",
    "    if file_hash is None:  # Agar file nahi mili to function exit kar do\n",
    "        return\n",
    "\n",
    "    if file_hash in malware_hashes:  # Agar file ka hash malware list me match ho jaye\n",
    "        print(f\"⚠️ ALERT: {file_path} is a malware!\")  # Warning print kar do\n",
    "    else:  # Agar hash match nahi hota to file safe hai\n",
    "        print(f\"✅ {file_path} is safe.\")  # Safe hone ka message print kar do\n",
    "\n",
    "# ✅ Test function ko ek dummy file ke saath\n",
    "scan_file(\"test_file.exe\")  # Yahan pe apni actual file ka naam likho\n"
   ]
  },
  {
   "cell_type": "code",
   "execution_count": null,
   "id": "2df2c681-4e09-4843-9707-4027364d58a7",
   "metadata": {},
   "outputs": [],
   "source": [
    "#file nai hay koi filhall,,,is liay generate kry gay."
   ]
  },
  {
   "cell_type": "code",
   "execution_count": 6,
   "id": "d03f8b70-9f0c-4fb1-b142-b5a3c7e32fa3",
   "metadata": {},
   "outputs": [
    {
     "name": "stdout",
     "output_type": "stream",
     "text": [
      "✅ test_file.exe generated successfully!\n"
     ]
    }
   ],
   "source": [
    "with open(\"test_file.exe\", \"wb\") as f:\n",
    "    f.write(b\"This is a dummy executable file for testing.\\n\" * 100)\n",
    "print(\"✅ test_file.exe generated successfully!\")\n"
   ]
  },
  {
   "cell_type": "code",
   "execution_count": null,
   "id": "26ca58d6-c1c0-47da-b927-a365573fa2be",
   "metadata": {},
   "outputs": [],
   "source": [
    "# MD5 Hash Generate Karna....MD5 (Message-Digest Algorithm 5)\n",
    "#ek hashing algorithm hai jo kisi bhi data (file, text, password) ka unique fixed-size hash (32-character hexadecimal string) generate karta hai."
   ]
  },
  {
   "cell_type": "code",
   "execution_count": 9,
   "id": "31869806-488c-4ba6-91d3-58810f5188cd",
   "metadata": {},
   "outputs": [
    {
     "name": "stdout",
     "output_type": "stream",
     "text": [
      "File Hash: 7808a9e79beb25fbd4251a2d8fbbdd6a\n"
     ]
    }
   ],
   "source": [
    "import hashlib\n",
    "\n",
    "def generate_hash(file_path):\n",
    "    hasher = hashlib.md5()\n",
    "    with open(file_path, \"rb\") as file:\n",
    "        buf = file.read()\n",
    "        hasher.update(buf)\n",
    "    return hasher.hexdigest()\n",
    "\n",
    "# Example: Kisi bhi file ka hash nikalna\n",
    "file_hash = generate_hash(\"test_file.exe\")\n",
    "print(\"File Hash:\", file_hash)\n"
   ]
  },
  {
   "cell_type": "code",
   "execution_count": null,
   "id": "5db823c1-aacd-4462-85ed-134a7e4f392f",
   "metadata": {},
   "outputs": [],
   "source": [
    "#Agar hum \"hello\" ka MD5 hash generate karein to:"
   ]
  },
  {
   "cell_type": "code",
   "execution_count": 10,
   "id": "8596ca30-bec7-4212-9fb8-a7bcd13c9816",
   "metadata": {},
   "outputs": [
    {
     "name": "stdout",
     "output_type": "stream",
     "text": [
      "MD5 Hash: 5d41402abc4b2a76b9719d911017c592\n"
     ]
    }
   ],
   "source": [
    "import hashlib\n",
    "\n",
    "text = \"hello\"\n",
    "md5_hash = hashlib.md5(text.encode()).hexdigest()\n",
    "\n",
    "print(\"MD5 Hash:\", md5_hash)\n"
   ]
  },
  {
   "cell_type": "code",
   "execution_count": null,
   "id": "f4800d38-07b2-406e-82d2-d7398e317bde",
   "metadata": {},
   "outputs": [],
   "source": []
  }
 ],
 "metadata": {
  "kernelspec": {
   "display_name": "Python 3 (ipykernel)",
   "language": "python",
   "name": "python3"
  },
  "language_info": {
   "codemirror_mode": {
    "name": "ipython",
    "version": 3
   },
   "file_extension": ".py",
   "mimetype": "text/x-python",
   "name": "python",
   "nbconvert_exporter": "python",
   "pygments_lexer": "ipython3",
   "version": "3.12.6"
  }
 },
 "nbformat": 4,
 "nbformat_minor": 5
}
